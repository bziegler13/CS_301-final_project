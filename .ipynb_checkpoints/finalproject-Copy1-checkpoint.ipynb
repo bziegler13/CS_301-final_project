{
 "cells": [
  {
   "cell_type": "code",
   "execution_count": 3,
   "id": "808ebdfb-caab-4118-8d5d-f24020c9885e",
   "metadata": {
    "tags": []
   },
   "outputs": [
    {
     "name": "stdout",
     "output_type": "stream",
     "text": [
      "   baseline value  accelerations  fetal_movement  uterine_contractions  \\\n",
      "0           120.0          0.000             0.0                 0.000   \n",
      "1           132.0          0.006             0.0                 0.006   \n",
      "2           133.0          0.003             0.0                 0.008   \n",
      "3           134.0          0.003             0.0                 0.008   \n",
      "4           132.0          0.007             0.0                 0.008   \n",
      "\n",
      "   light_decelerations  severe_decelerations  prolongued_decelerations  \\\n",
      "0                0.000                   0.0                       0.0   \n",
      "1                0.003                   0.0                       0.0   \n",
      "2                0.003                   0.0                       0.0   \n",
      "3                0.003                   0.0                       0.0   \n",
      "4                0.000                   0.0                       0.0   \n",
      "\n",
      "   abnormal_short_term_variability  mean_value_of_short_term_variability  \\\n",
      "0                             73.0                                   0.5   \n",
      "1                             17.0                                   2.1   \n",
      "2                             16.0                                   2.1   \n",
      "3                             16.0                                   2.4   \n",
      "4                             16.0                                   2.4   \n",
      "\n",
      "   percentage_of_time_with_abnormal_long_term_variability  ...  histogram_min  \\\n",
      "0                                               43.0       ...           62.0   \n",
      "1                                                0.0       ...           68.0   \n",
      "2                                                0.0       ...           68.0   \n",
      "3                                                0.0       ...           53.0   \n",
      "4                                                0.0       ...           53.0   \n",
      "\n",
      "   histogram_max  histogram_number_of_peaks  histogram_number_of_zeroes  \\\n",
      "0          126.0                        2.0                         0.0   \n",
      "1          198.0                        6.0                         1.0   \n",
      "2          198.0                        5.0                         1.0   \n",
      "3          170.0                       11.0                         0.0   \n",
      "4          170.0                        9.0                         0.0   \n",
      "\n",
      "   histogram_mode  histogram_mean  histogram_median  histogram_variance  \\\n",
      "0           120.0           137.0             121.0                73.0   \n",
      "1           141.0           136.0             140.0                12.0   \n",
      "2           141.0           135.0             138.0                13.0   \n",
      "3           137.0           134.0             137.0                13.0   \n",
      "4           137.0           136.0             138.0                11.0   \n",
      "\n",
      "   histogram_tendency  fetal_health  \n",
      "0                 1.0           2.0  \n",
      "1                 0.0           1.0  \n",
      "2                 0.0           1.0  \n",
      "3                 1.0           1.0  \n",
      "4                 1.0           1.0  \n",
      "\n",
      "[5 rows x 22 columns]\n"
     ]
    }
   ],
   "source": [
    "import pandas as pd\n",
    "data = pd.read_csv(\"fetal_health-1.csv\")\n",
    "df = data.head()\n",
    "print(df)"
   ]
  },
  {
   "cell_type": "code",
   "execution_count": null,
   "id": "3c74e67a-2d9e-4370-8e21-d2ce388b56f5",
   "metadata": {},
   "outputs": [],
   "source": []
  }
 ],
 "metadata": {
  "kernelspec": {
   "display_name": "Python 3",
   "language": "python",
   "name": "python3"
  },
  "language_info": {
   "codemirror_mode": {
    "name": "ipython",
    "version": 3
   },
   "file_extension": ".py",
   "mimetype": "text/x-python",
   "name": "python",
   "nbconvert_exporter": "python",
   "pygments_lexer": "ipython3",
   "version": "3.8.5"
  }
 },
 "nbformat": 4,
 "nbformat_minor": 5
}
